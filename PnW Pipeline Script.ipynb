{
 "cells": [
  {
   "cell_type": "code",
   "execution_count": 11,
   "id": "532be09d",
   "metadata": {},
   "outputs": [],
   "source": [
    "import urllib\n",
    "import pnwkit\n",
    "import pandas as pd\n",
    "import sqlalchemy as sq\n",
    "from sqlalchemy import create_engine\n",
    "from urllib.parse import quote_plus"
   ]
  },
  {
   "cell_type": "code",
   "execution_count": 12,
   "id": "d204f8fe",
   "metadata": {},
   "outputs": [],
   "source": [
    "#DB Connection\n",
    "conFormat = urllib.parse.quote_plus(\n",
    "    'Data Source Name=Franklin;' \n",
    "    'Driver={SQL Server};' \n",
    "    'Server=FRANKLIN;' \n",
    "    'Database=PnWDB;' \n",
    "    'Trusted_connection=yes;'\n",
    ")\n",
    "#create engine\n",
    "engine = create_engine('mssql+pyodbc:///?odbc_connect={}'.format(conFormat))"
   ]
  },
  {
   "cell_type": "code",
   "execution_count": 13,
   "id": "015ed625",
   "metadata": {},
   "outputs": [],
   "source": [
    "#Query GraphQL API using PnwKit-Py Wrapper\n",
    "#Insert API Key here\n",
    "kit = pnwkit.QueryKit(\"48c5d3fb4c00c5\")\n",
    "\n",
    "#Query first 500 of results at once\n",
    "#Retrieves only fields attributes specified in .query() method\n",
    "nation_query = kit.query(\n",
    "    'nations', {'first': 500}, 'id', 'nation_name', 'num_cities', 'color', 'score', 'alliance_id', 'alliance_position', \n",
    "    'soldiers', 'tanks', 'aircraft', 'ships', 'vacation_mode_turns' \n",
    ")\n",
    "#Query alliance field and attributes\n",
    "alliance_query = kit.query(\n",
    "    'alliances', {'first': 100}, 'id', 'name'\n",
    ")\n",
    "#Query treaty field and attributes\n",
    "treaty_query = kit.query(\n",
    "    'treaties', {'first': 500}, 'id', 'alliance1_id', 'alliance2_id', 'treaty_type'\n",
    ")\n",
    "\n",
    "#Paginate queries for all available results in each field\n",
    "nations = nation_query.paginate(\"nations\")\n",
    "alliances = alliance_query.paginate(\"alliances\")\n",
    "treaties = treaty_query.paginate(\"treaties\")\n",
    "\n",
    "#Initialize empty dictionaries that will later be converted into Dataframes\n",
    "#Also set column order here for dynamic tables\n",
    "nation_data = {\n",
    "    'id': [], 'alliance_id': [], 'alliance_position': [], 'color': [], 'nation_name': [], 'num_cities': [], 'score': [], \n",
    "    'vacation_mode_turns': []\n",
    "}\n",
    "\n",
    "military_data = {\n",
    "    'id': [], 'soldiers': [], 'tanks': [], 'aircraft': [], 'ships': []\n",
    "}\n",
    "\n",
    "alliance_data = {\n",
    "    'id': [], 'name': []\n",
    "}\n",
    "\n",
    "treaty_data = {\n",
    "    'id': [], 'alliance1_id': [], 'alliance2_id': [], 'treaty_type': []\n",
    "}\n",
    "\n",
    "#static data tables\n",
    "color_data = {\n",
    "    'color_id': [*range(0, 16)], 'color': ['beige', 'gray', 'lime', 'green', 'white', 'brown', 'maroon', 'purple', 'blue', \n",
    "                                           'red', 'orange', 'olive', 'aqua', 'black', 'yellow', 'pink']\n",
    "}\n",
    "\n",
    "position_data = {\n",
    "    'position_id': [*range(0, 6)], 'position': ['NOALLIANCE', 'APPLICANT', 'MEMBER', 'OFFICER', 'HEIR', 'LEADER']\n",
    "}"
   ]
  },
  {
   "cell_type": "code",
   "execution_count": 14,
   "id": "81cd09d9",
   "metadata": {
    "scrolled": false
   },
   "outputs": [],
   "source": [
    "#Convert paginator objects to dictionaries\n",
    "#Iterate through paginator object: nations\n",
    "for nation in nations:\n",
    "    #iterate through empty dict and append values\n",
    "    for key in nation_data:\n",
    "        if key != 'alliance_position':\n",
    "            nation_data[str(key)].append(nation.__getattribute__(key))\n",
    "        #Special case where key != object atrribute\n",
    "        else:\n",
    "            #nested attribute alliance position\n",
    "            nation_data['alliance_position'].append(nation.alliance_position.value)\n",
    "    #iterate through empty dict and append values\n",
    "    for key in military_data:\n",
    "            military_data[str(key)].append(nation.__getattribute__(key))\n",
    "\n",
    "#Iterate through paginator object: alliances\n",
    "for alliance in alliances:\n",
    "    #iterate through empty dict and append values\n",
    "    for key in alliance_data:\n",
    "            alliance_data[str(key)].append(alliance.__getattribute__(key))\n",
    "\n",
    "#Iterate through paginator object: treaties\n",
    "for treaty in treaties:\n",
    "    #iterate through empty dict and append values\n",
    "    for key in treaty_data:\n",
    "        treaty_data[str(key)].append(treaty.__getattribute__(key))"
   ]
  },
  {
   "cell_type": "code",
   "execution_count": 15,
   "id": "35de2c9f",
   "metadata": {
    "scrolled": true
   },
   "outputs": [
    {
     "data": {
      "text/html": [
       "<div>\n",
       "<style scoped>\n",
       "    .dataframe tbody tr th:only-of-type {\n",
       "        vertical-align: middle;\n",
       "    }\n",
       "\n",
       "    .dataframe tbody tr th {\n",
       "        vertical-align: top;\n",
       "    }\n",
       "\n",
       "    .dataframe thead th {\n",
       "        text-align: right;\n",
       "    }\n",
       "</style>\n",
       "<table border=\"1\" class=\"dataframe\">\n",
       "  <thead>\n",
       "    <tr style=\"text-align: right;\">\n",
       "      <th></th>\n",
       "      <th>alliance_id</th>\n",
       "      <th>alliance_name</th>\n",
       "    </tr>\n",
       "  </thead>\n",
       "  <tbody>\n",
       "    <tr>\n",
       "      <th>0</th>\n",
       "      <td>790</td>\n",
       "      <td>Rose</td>\n",
       "    </tr>\n",
       "    <tr>\n",
       "      <th>1</th>\n",
       "      <td>1584</td>\n",
       "      <td>The Knights Radiant</td>\n",
       "    </tr>\n",
       "    <tr>\n",
       "      <th>2</th>\n",
       "      <td>5875</td>\n",
       "      <td>The Immortals</td>\n",
       "    </tr>\n",
       "    <tr>\n",
       "      <th>3</th>\n",
       "      <td>1023</td>\n",
       "      <td>The Fighting Pacifists</td>\n",
       "    </tr>\n",
       "    <tr>\n",
       "      <th>4</th>\n",
       "      <td>7450</td>\n",
       "      <td>Eclipse</td>\n",
       "    </tr>\n",
       "  </tbody>\n",
       "</table>\n",
       "</div>"
      ],
      "text/plain": [
       "   alliance_id           alliance_name\n",
       "0          790                    Rose\n",
       "1         1584     The Knights Radiant\n",
       "2         5875           The Immortals\n",
       "3         1023  The Fighting Pacifists\n",
       "4         7450                 Eclipse"
      ]
     },
     "execution_count": 15,
     "metadata": {},
     "output_type": "execute_result"
    }
   ],
   "source": [
    "#create DF from dictionaries\n",
    "alliances_df = pd.DataFrame(alliance_data)\n",
    "#change column headers to more approprate names\n",
    "alliances_df.rename(columns={'id': 'alliance_id', 'name': 'alliance_name'}, inplace=True)\n",
    "alliances_df.head()"
   ]
  },
  {
   "cell_type": "code",
   "execution_count": 16,
   "id": "4ecf29b2",
   "metadata": {},
   "outputs": [
    {
     "data": {
      "text/html": [
       "<div>\n",
       "<style scoped>\n",
       "    .dataframe tbody tr th:only-of-type {\n",
       "        vertical-align: middle;\n",
       "    }\n",
       "\n",
       "    .dataframe tbody tr th {\n",
       "        vertical-align: top;\n",
       "    }\n",
       "\n",
       "    .dataframe thead th {\n",
       "        text-align: right;\n",
       "    }\n",
       "</style>\n",
       "<table border=\"1\" class=\"dataframe\">\n",
       "  <thead>\n",
       "    <tr style=\"text-align: right;\">\n",
       "      <th></th>\n",
       "      <th>position_id</th>\n",
       "      <th>position</th>\n",
       "    </tr>\n",
       "  </thead>\n",
       "  <tbody>\n",
       "    <tr>\n",
       "      <th>0</th>\n",
       "      <td>0</td>\n",
       "      <td>NOALLIANCE</td>\n",
       "    </tr>\n",
       "    <tr>\n",
       "      <th>1</th>\n",
       "      <td>1</td>\n",
       "      <td>APPLICANT</td>\n",
       "    </tr>\n",
       "    <tr>\n",
       "      <th>2</th>\n",
       "      <td>2</td>\n",
       "      <td>MEMBER</td>\n",
       "    </tr>\n",
       "    <tr>\n",
       "      <th>3</th>\n",
       "      <td>3</td>\n",
       "      <td>OFFICER</td>\n",
       "    </tr>\n",
       "    <tr>\n",
       "      <th>4</th>\n",
       "      <td>4</td>\n",
       "      <td>HEIR</td>\n",
       "    </tr>\n",
       "  </tbody>\n",
       "</table>\n",
       "</div>"
      ],
      "text/plain": [
       "   position_id    position\n",
       "0            0  NOALLIANCE\n",
       "1            1   APPLICANT\n",
       "2            2      MEMBER\n",
       "3            3     OFFICER\n",
       "4            4        HEIR"
      ]
     },
     "execution_count": 16,
     "metadata": {},
     "output_type": "execute_result"
    }
   ],
   "source": [
    "#create DF from dictionaries\n",
    "alliance_positions_df = pd.DataFrame(position_data)\n",
    "alliance_positions_df.head()"
   ]
  },
  {
   "cell_type": "code",
   "execution_count": 17,
   "id": "cec4673b",
   "metadata": {},
   "outputs": [
    {
     "data": {
      "text/html": [
       "<div>\n",
       "<style scoped>\n",
       "    .dataframe tbody tr th:only-of-type {\n",
       "        vertical-align: middle;\n",
       "    }\n",
       "\n",
       "    .dataframe tbody tr th {\n",
       "        vertical-align: top;\n",
       "    }\n",
       "\n",
       "    .dataframe thead th {\n",
       "        text-align: right;\n",
       "    }\n",
       "</style>\n",
       "<table border=\"1\" class=\"dataframe\">\n",
       "  <thead>\n",
       "    <tr style=\"text-align: right;\">\n",
       "      <th></th>\n",
       "      <th>color_id</th>\n",
       "      <th>color</th>\n",
       "    </tr>\n",
       "  </thead>\n",
       "  <tbody>\n",
       "    <tr>\n",
       "      <th>0</th>\n",
       "      <td>0</td>\n",
       "      <td>beige</td>\n",
       "    </tr>\n",
       "    <tr>\n",
       "      <th>1</th>\n",
       "      <td>1</td>\n",
       "      <td>gray</td>\n",
       "    </tr>\n",
       "    <tr>\n",
       "      <th>2</th>\n",
       "      <td>2</td>\n",
       "      <td>lime</td>\n",
       "    </tr>\n",
       "    <tr>\n",
       "      <th>3</th>\n",
       "      <td>3</td>\n",
       "      <td>green</td>\n",
       "    </tr>\n",
       "    <tr>\n",
       "      <th>4</th>\n",
       "      <td>4</td>\n",
       "      <td>white</td>\n",
       "    </tr>\n",
       "  </tbody>\n",
       "</table>\n",
       "</div>"
      ],
      "text/plain": [
       "   color_id  color\n",
       "0         0  beige\n",
       "1         1   gray\n",
       "2         2   lime\n",
       "3         3  green\n",
       "4         4  white"
      ]
     },
     "execution_count": 17,
     "metadata": {},
     "output_type": "execute_result"
    }
   ],
   "source": [
    "#create DF from dictionaries\n",
    "colors_df = pd.DataFrame(color_data)\n",
    "colors_df.head()"
   ]
  },
  {
   "cell_type": "code",
   "execution_count": 18,
   "id": "d5a33330",
   "metadata": {
    "scrolled": true
   },
   "outputs": [
    {
     "data": {
      "text/html": [
       "<div>\n",
       "<style scoped>\n",
       "    .dataframe tbody tr th:only-of-type {\n",
       "        vertical-align: middle;\n",
       "    }\n",
       "\n",
       "    .dataframe tbody tr th {\n",
       "        vertical-align: top;\n",
       "    }\n",
       "\n",
       "    .dataframe thead th {\n",
       "        text-align: right;\n",
       "    }\n",
       "</style>\n",
       "<table border=\"1\" class=\"dataframe\">\n",
       "  <thead>\n",
       "    <tr style=\"text-align: right;\">\n",
       "      <th></th>\n",
       "      <th>id</th>\n",
       "      <th>alliance_id</th>\n",
       "      <th>alliance_position</th>\n",
       "      <th>color</th>\n",
       "      <th>nation_name</th>\n",
       "      <th>num_cities</th>\n",
       "      <th>score</th>\n",
       "      <th>vacation_mode_turns</th>\n",
       "    </tr>\n",
       "  </thead>\n",
       "  <tbody>\n",
       "    <tr>\n",
       "      <th>0</th>\n",
       "      <td>5270</td>\n",
       "      <td>11515</td>\n",
       "      <td>5</td>\n",
       "      <td>pink</td>\n",
       "      <td>Belleroph</td>\n",
       "      <td>40</td>\n",
       "      <td>7445.00</td>\n",
       "      <td>0</td>\n",
       "    </tr>\n",
       "    <tr>\n",
       "      <th>1</th>\n",
       "      <td>439</td>\n",
       "      <td>7450</td>\n",
       "      <td>2</td>\n",
       "      <td>brown</td>\n",
       "      <td>Howell</td>\n",
       "      <td>32</td>\n",
       "      <td>5835.00</td>\n",
       "      <td>0</td>\n",
       "    </tr>\n",
       "    <tr>\n",
       "      <th>2</th>\n",
       "      <td>300</td>\n",
       "      <td>3339</td>\n",
       "      <td>2</td>\n",
       "      <td>green</td>\n",
       "      <td>BEPU</td>\n",
       "      <td>47</td>\n",
       "      <td>9614.30</td>\n",
       "      <td>0</td>\n",
       "    </tr>\n",
       "    <tr>\n",
       "      <th>3</th>\n",
       "      <td>405</td>\n",
       "      <td>3339</td>\n",
       "      <td>2</td>\n",
       "      <td>green</td>\n",
       "      <td>Gladius</td>\n",
       "      <td>43</td>\n",
       "      <td>8761.25</td>\n",
       "      <td>0</td>\n",
       "    </tr>\n",
       "    <tr>\n",
       "      <th>4</th>\n",
       "      <td>6</td>\n",
       "      <td>8900</td>\n",
       "      <td>5</td>\n",
       "      <td>gray</td>\n",
       "      <td>Mountania</td>\n",
       "      <td>5</td>\n",
       "      <td>390.00</td>\n",
       "      <td>0</td>\n",
       "    </tr>\n",
       "  </tbody>\n",
       "</table>\n",
       "</div>"
      ],
      "text/plain": [
       "     id  alliance_id  alliance_position  color nation_name  num_cities  \\\n",
       "0  5270        11515                  5   pink   Belleroph          40   \n",
       "1   439         7450                  2  brown      Howell          32   \n",
       "2   300         3339                  2  green        BEPU          47   \n",
       "3   405         3339                  2  green     Gladius          43   \n",
       "4     6         8900                  5   gray   Mountania           5   \n",
       "\n",
       "     score  vacation_mode_turns  \n",
       "0  7445.00                    0  \n",
       "1  5835.00                    0  \n",
       "2  9614.30                    0  \n",
       "3  8761.25                    0  \n",
       "4   390.00                    0  "
      ]
     },
     "execution_count": 18,
     "metadata": {},
     "output_type": "execute_result"
    }
   ],
   "source": [
    "#create DF from dictionaries\n",
    "nations_df = pd.DataFrame(nation_data)\n",
    "nations_df.head()"
   ]
  },
  {
   "cell_type": "code",
   "execution_count": 19,
   "id": "06a8d58a",
   "metadata": {},
   "outputs": [
    {
     "data": {
      "text/html": [
       "<div>\n",
       "<style scoped>\n",
       "    .dataframe tbody tr th:only-of-type {\n",
       "        vertical-align: middle;\n",
       "    }\n",
       "\n",
       "    .dataframe tbody tr th {\n",
       "        vertical-align: top;\n",
       "    }\n",
       "\n",
       "    .dataframe thead th {\n",
       "        text-align: right;\n",
       "    }\n",
       "</style>\n",
       "<table border=\"1\" class=\"dataframe\">\n",
       "  <thead>\n",
       "    <tr style=\"text-align: right;\">\n",
       "      <th></th>\n",
       "      <th>nation_id</th>\n",
       "      <th>alliance_id</th>\n",
       "      <th>position_id</th>\n",
       "      <th>color_id</th>\n",
       "      <th>nation_name</th>\n",
       "      <th>cities</th>\n",
       "      <th>nation_score</th>\n",
       "      <th>vacation_mode_turns</th>\n",
       "    </tr>\n",
       "  </thead>\n",
       "  <tbody>\n",
       "    <tr>\n",
       "      <th>0</th>\n",
       "      <td>5270</td>\n",
       "      <td>11515</td>\n",
       "      <td>5</td>\n",
       "      <td>15</td>\n",
       "      <td>Belleroph</td>\n",
       "      <td>40</td>\n",
       "      <td>7445.00</td>\n",
       "      <td>0</td>\n",
       "    </tr>\n",
       "    <tr>\n",
       "      <th>1</th>\n",
       "      <td>439</td>\n",
       "      <td>7450</td>\n",
       "      <td>2</td>\n",
       "      <td>5</td>\n",
       "      <td>Howell</td>\n",
       "      <td>32</td>\n",
       "      <td>5835.00</td>\n",
       "      <td>0</td>\n",
       "    </tr>\n",
       "    <tr>\n",
       "      <th>2</th>\n",
       "      <td>300</td>\n",
       "      <td>3339</td>\n",
       "      <td>2</td>\n",
       "      <td>3</td>\n",
       "      <td>BEPU</td>\n",
       "      <td>47</td>\n",
       "      <td>9614.30</td>\n",
       "      <td>0</td>\n",
       "    </tr>\n",
       "    <tr>\n",
       "      <th>3</th>\n",
       "      <td>405</td>\n",
       "      <td>3339</td>\n",
       "      <td>2</td>\n",
       "      <td>3</td>\n",
       "      <td>Gladius</td>\n",
       "      <td>43</td>\n",
       "      <td>8761.25</td>\n",
       "      <td>0</td>\n",
       "    </tr>\n",
       "    <tr>\n",
       "      <th>4</th>\n",
       "      <td>6</td>\n",
       "      <td>8900</td>\n",
       "      <td>5</td>\n",
       "      <td>1</td>\n",
       "      <td>Mountania</td>\n",
       "      <td>5</td>\n",
       "      <td>390.00</td>\n",
       "      <td>0</td>\n",
       "    </tr>\n",
       "  </tbody>\n",
       "</table>\n",
       "</div>"
      ],
      "text/plain": [
       "   nation_id  alliance_id  position_id  color_id nation_name  cities  \\\n",
       "0       5270        11515            5        15   Belleroph      40   \n",
       "1        439         7450            2         5      Howell      32   \n",
       "2        300         3339            2         3        BEPU      47   \n",
       "3        405         3339            2         3     Gladius      43   \n",
       "4          6         8900            5         1   Mountania       5   \n",
       "\n",
       "   nation_score  vacation_mode_turns  \n",
       "0       7445.00                    0  \n",
       "1       5835.00                    0  \n",
       "2       9614.30                    0  \n",
       "3       8761.25                    0  \n",
       "4        390.00                    0  "
      ]
     },
     "execution_count": 19,
     "metadata": {},
     "output_type": "execute_result"
    }
   ],
   "source": [
    "#replaces text with numbers\n",
    "nations_df['color'] = nations_df['color'].replace(['beige', 'gray', 'lime', 'green', 'white', 'brown', 'maroon', 'purple', \n",
    "                                                   'blue', 'red', 'orange', 'olive', 'aqua', 'black', 'yellow', 'pink'], \n",
    "                                                  [*range(0, 16)])\n",
    "#change column headers to more approprate names\n",
    "nations_df.rename(columns={'id': 'nation_id', 'num_cities': 'cities', 'color': 'color_id', \n",
    "                           'alliance_position': 'position_id', 'score': 'nation_score'}, inplace=True)\n",
    "#select records in nations_df if the alliance id exists in the alliance df\n",
    "new_nations_df = nations_df[nations_df['alliance_id'].isin(alliances_df['alliance_id'])]\n",
    "new_nations_df.head()"
   ]
  },
  {
   "cell_type": "code",
   "execution_count": 20,
   "id": "a8e3e70b",
   "metadata": {},
   "outputs": [
    {
     "data": {
      "text/html": [
       "<div>\n",
       "<style scoped>\n",
       "    .dataframe tbody tr th:only-of-type {\n",
       "        vertical-align: middle;\n",
       "    }\n",
       "\n",
       "    .dataframe tbody tr th {\n",
       "        vertical-align: top;\n",
       "    }\n",
       "\n",
       "    .dataframe thead th {\n",
       "        text-align: right;\n",
       "    }\n",
       "</style>\n",
       "<table border=\"1\" class=\"dataframe\">\n",
       "  <thead>\n",
       "    <tr style=\"text-align: right;\">\n",
       "      <th></th>\n",
       "      <th>nation_id</th>\n",
       "      <th>soldiers</th>\n",
       "      <th>tanks</th>\n",
       "      <th>aircraft</th>\n",
       "      <th>ships</th>\n",
       "    </tr>\n",
       "  </thead>\n",
       "  <tbody>\n",
       "    <tr>\n",
       "      <th>0</th>\n",
       "      <td>5270</td>\n",
       "      <td>0</td>\n",
       "      <td>20000</td>\n",
       "      <td>3000</td>\n",
       "      <td>0</td>\n",
       "    </tr>\n",
       "    <tr>\n",
       "      <th>1</th>\n",
       "      <td>439</td>\n",
       "      <td>0</td>\n",
       "      <td>16000</td>\n",
       "      <td>2400</td>\n",
       "      <td>0</td>\n",
       "    </tr>\n",
       "    <tr>\n",
       "      <th>2</th>\n",
       "      <td>300</td>\n",
       "      <td>297000</td>\n",
       "      <td>33000</td>\n",
       "      <td>2760</td>\n",
       "      <td>395</td>\n",
       "    </tr>\n",
       "    <tr>\n",
       "      <th>3</th>\n",
       "      <td>405</td>\n",
       "      <td>165000</td>\n",
       "      <td>28750</td>\n",
       "      <td>2355</td>\n",
       "      <td>305</td>\n",
       "    </tr>\n",
       "    <tr>\n",
       "      <th>4</th>\n",
       "      <td>6</td>\n",
       "      <td>0</td>\n",
       "      <td>0</td>\n",
       "      <td>0</td>\n",
       "      <td>0</td>\n",
       "    </tr>\n",
       "  </tbody>\n",
       "</table>\n",
       "</div>"
      ],
      "text/plain": [
       "   nation_id  soldiers  tanks  aircraft  ships\n",
       "0       5270         0  20000      3000      0\n",
       "1        439         0  16000      2400      0\n",
       "2        300    297000  33000      2760    395\n",
       "3        405    165000  28750      2355    305\n",
       "4          6         0      0         0      0"
      ]
     },
     "execution_count": 20,
     "metadata": {},
     "output_type": "execute_result"
    }
   ],
   "source": [
    "#create DF from dictionaries\n",
    "militaries_df = pd.DataFrame(military_data)\n",
    "#change column headers to more approprate names\n",
    "militaries_df.rename(columns={'id': 'nation_id'}, inplace=True)\n",
    "#select records in militaries_df if the alliance id exists in the alliance df\n",
    "new_militaries_df = militaries_df[militaries_df['nation_id'].isin(new_nations_df['nation_id'])]\n",
    "new_militaries_df.head()"
   ]
  },
  {
   "cell_type": "code",
   "execution_count": 21,
   "id": "44d1a89d",
   "metadata": {},
   "outputs": [
    {
     "data": {
      "text/html": [
       "<div>\n",
       "<style scoped>\n",
       "    .dataframe tbody tr th:only-of-type {\n",
       "        vertical-align: middle;\n",
       "    }\n",
       "\n",
       "    .dataframe tbody tr th {\n",
       "        vertical-align: top;\n",
       "    }\n",
       "\n",
       "    .dataframe thead th {\n",
       "        text-align: right;\n",
       "    }\n",
       "</style>\n",
       "<table border=\"1\" class=\"dataframe\">\n",
       "  <thead>\n",
       "    <tr style=\"text-align: right;\">\n",
       "      <th></th>\n",
       "      <th>id</th>\n",
       "      <th>alliance1_id</th>\n",
       "      <th>alliance2_id</th>\n",
       "      <th>treaty_type</th>\n",
       "    </tr>\n",
       "  </thead>\n",
       "  <tbody>\n",
       "    <tr>\n",
       "      <th>0</th>\n",
       "      <td>16198</td>\n",
       "      <td>9357</td>\n",
       "      <td>9292</td>\n",
       "      <td>MDP</td>\n",
       "    </tr>\n",
       "    <tr>\n",
       "      <th>1</th>\n",
       "      <td>16286</td>\n",
       "      <td>9393</td>\n",
       "      <td>9292</td>\n",
       "      <td>MDP</td>\n",
       "    </tr>\n",
       "    <tr>\n",
       "      <th>2</th>\n",
       "      <td>16545</td>\n",
       "      <td>8868</td>\n",
       "      <td>4623</td>\n",
       "      <td>Protectorate</td>\n",
       "    </tr>\n",
       "    <tr>\n",
       "      <th>3</th>\n",
       "      <td>18514</td>\n",
       "      <td>8900</td>\n",
       "      <td>9292</td>\n",
       "      <td>MDP</td>\n",
       "    </tr>\n",
       "    <tr>\n",
       "      <th>4</th>\n",
       "      <td>19893</td>\n",
       "      <td>10455</td>\n",
       "      <td>4271</td>\n",
       "      <td>Protectorate</td>\n",
       "    </tr>\n",
       "  </tbody>\n",
       "</table>\n",
       "</div>"
      ],
      "text/plain": [
       "      id  alliance1_id  alliance2_id   treaty_type\n",
       "0  16198          9357          9292           MDP\n",
       "1  16286          9393          9292           MDP\n",
       "2  16545          8868          4623  Protectorate\n",
       "3  18514          8900          9292           MDP\n",
       "4  19893         10455          4271  Protectorate"
      ]
     },
     "execution_count": 21,
     "metadata": {},
     "output_type": "execute_result"
    }
   ],
   "source": [
    "#create DF from dictionaries\n",
    "treaties_df = pd.DataFrame(treaty_data)\n",
    "treaties_df.head()"
   ]
  },
  {
   "cell_type": "code",
   "execution_count": 22,
   "id": "fb2b6738",
   "metadata": {},
   "outputs": [
    {
     "data": {
      "text/html": [
       "<div>\n",
       "<style scoped>\n",
       "    .dataframe tbody tr th:only-of-type {\n",
       "        vertical-align: middle;\n",
       "    }\n",
       "\n",
       "    .dataframe tbody tr th {\n",
       "        vertical-align: top;\n",
       "    }\n",
       "\n",
       "    .dataframe thead th {\n",
       "        text-align: right;\n",
       "    }\n",
       "</style>\n",
       "<table border=\"1\" class=\"dataframe\">\n",
       "  <thead>\n",
       "    <tr style=\"text-align: right;\">\n",
       "      <th></th>\n",
       "      <th>treaty_id</th>\n",
       "      <th>sending_alliance_id</th>\n",
       "      <th>receiving_alliance_id</th>\n",
       "      <th>treaty_type</th>\n",
       "    </tr>\n",
       "  </thead>\n",
       "  <tbody>\n",
       "    <tr>\n",
       "      <th>2</th>\n",
       "      <td>16545</td>\n",
       "      <td>8868</td>\n",
       "      <td>4623</td>\n",
       "      <td>Protectorate</td>\n",
       "    </tr>\n",
       "    <tr>\n",
       "      <th>3</th>\n",
       "      <td>18514</td>\n",
       "      <td>8900</td>\n",
       "      <td>9292</td>\n",
       "      <td>MDP</td>\n",
       "    </tr>\n",
       "    <tr>\n",
       "      <th>4</th>\n",
       "      <td>19893</td>\n",
       "      <td>10455</td>\n",
       "      <td>4271</td>\n",
       "      <td>Protectorate</td>\n",
       "    </tr>\n",
       "    <tr>\n",
       "      <th>5</th>\n",
       "      <td>20832</td>\n",
       "      <td>10269</td>\n",
       "      <td>877</td>\n",
       "      <td>MDP</td>\n",
       "    </tr>\n",
       "    <tr>\n",
       "      <th>6</th>\n",
       "      <td>20865</td>\n",
       "      <td>10498</td>\n",
       "      <td>9661</td>\n",
       "      <td>Protectorate</td>\n",
       "    </tr>\n",
       "  </tbody>\n",
       "</table>\n",
       "</div>"
      ],
      "text/plain": [
       "   treaty_id  sending_alliance_id  receiving_alliance_id   treaty_type\n",
       "2      16545                 8868                   4623  Protectorate\n",
       "3      18514                 8900                   9292           MDP\n",
       "4      19893                10455                   4271  Protectorate\n",
       "5      20832                10269                    877           MDP\n",
       "6      20865                10498                   9661  Protectorate"
      ]
     },
     "execution_count": 22,
     "metadata": {},
     "output_type": "execute_result"
    }
   ],
   "source": [
    "#change column headers to more approprate names\n",
    "treaties_df.rename(columns={'id': 'treaty_id', 'alliance1_id': 'sending_alliance_id', \n",
    "                            'alliance2_id': 'receiving_alliance_id'}, inplace=True)\n",
    "#select records in treaties_df if the alliance id exists in the alliance df\n",
    "send_treaties_df = treaties_df[treaties_df['sending_alliance_id'].isin(alliances_df['alliance_id'])]\n",
    "new_treaties_df = send_treaties_df[send_treaties_df['receiving_alliance_id'].isin(alliances_df['alliance_id'])]\n",
    "new_treaties_df.head()"
   ]
  },
  {
   "cell_type": "code",
   "execution_count": 13,
   "id": "5648796e",
   "metadata": {},
   "outputs": [],
   "source": [
    "with engine.begin() as start:\n",
    "    start.execute('DELETE FROM treaties')\n",
    "    start.execute('DELETE FROM nations')\n",
    "    start.execute('DELETE FROM alliance_positions')\n",
    "    start.execute('DELETE FROM color_blocs')\n",
    "    start.execute('DELETE FROM militaries')\n",
    "    start.execute('DELETE FROM alliances')"
   ]
  },
  {
   "cell_type": "code",
   "execution_count": 14,
   "id": "543fdea4",
   "metadata": {
    "scrolled": false
   },
   "outputs": [
    {
     "data": {
      "text/plain": [
       "-1"
      ]
     },
     "execution_count": 14,
     "metadata": {},
     "output_type": "execute_result"
    }
   ],
   "source": [
    "#send tables into DB, preserving column datatypes\n",
    "alliances_df.to_sql('alliances', con=engine, schema='dbo', if_exists='append', index=False,\n",
    "                    dtype={'alliance_id': sq.types.SMALLINT(),'alliance_name': sq.types.VARCHAR()})"
   ]
  },
  {
   "cell_type": "code",
   "execution_count": 15,
   "id": "63e2840a",
   "metadata": {},
   "outputs": [
    {
     "data": {
      "text/plain": [
       "-1"
      ]
     },
     "execution_count": 15,
     "metadata": {},
     "output_type": "execute_result"
    }
   ],
   "source": [
    "#send tables into DB, preserving column datatypes\n",
    "alliance_positions_df.to_sql('alliance_positions', con=engine, schema='dbo', if_exists='append', index=False, \n",
    "                             dtype={'position_id': sq.types.SMALLINT(), 'position': sq.types.VARCHAR(50)})"
   ]
  },
  {
   "cell_type": "code",
   "execution_count": 16,
   "id": "bad622f2",
   "metadata": {},
   "outputs": [
    {
     "data": {
      "text/plain": [
       "-1"
      ]
     },
     "execution_count": 16,
     "metadata": {},
     "output_type": "execute_result"
    }
   ],
   "source": [
    "#send tables into DB, preserving column datatypes\n",
    "colors_df.to_sql('color_blocs', con=engine, schema='dbo', if_exists='append', index=False, \n",
    "                 dtype={'color_id': sq.types.SMALLINT(), 'color': sq.types.VARCHAR(50)})"
   ]
  },
  {
   "cell_type": "code",
   "execution_count": 17,
   "id": "81eb3670",
   "metadata": {},
   "outputs": [
    {
     "data": {
      "text/plain": [
       "-1"
      ]
     },
     "execution_count": 17,
     "metadata": {},
     "output_type": "execute_result"
    }
   ],
   "source": [
    "#send tables into DB, preserving column datatypes\n",
    "new_nations_df.to_sql('nations', con=engine, schema='dbo', if_exists='append', index=False,\n",
    "                      dtype={'nation_id': sq.types.INT(), 'nation_name': sq.types.VARCHAR(100), \n",
    "                             'leader_name': sq.types.VARCHAR(100), 'cities': sq.types.SMALLINT(), \n",
    "                             'color_bloc': sq.types.VARCHAR(100), 'nation_score': sq.types.FLOAT, \n",
    "                             'alliance_id': sq.types.SMALLINT(), 'alliance_position': sq.types.VARCHAR(50),\n",
    "                             'vacation_mode_turns':sq.types.INT, 'last_active': sq.types.DATETIME()})"
   ]
  },
  {
   "cell_type": "code",
   "execution_count": 18,
   "id": "59ece631",
   "metadata": {},
   "outputs": [
    {
     "data": {
      "text/plain": [
       "-1"
      ]
     },
     "execution_count": 18,
     "metadata": {},
     "output_type": "execute_result"
    }
   ],
   "source": [
    "#send tables into DB, preserving column datatypes\n",
    "new_militaries_df.to_sql('militaries', con=engine, schema='dbo', if_exists='append', index=False, \n",
    "                         dtype={'nation_id': sq.types.INT(), 'soldiers': sq.types.INT(), 'tanks': sq.types.INT(), \n",
    "                                'aircraft': sq.types.SMALLINT(), 'ships': sq.types.SMALLINT()})"
   ]
  },
  {
   "cell_type": "code",
   "execution_count": 19,
   "id": "2d22a20e",
   "metadata": {},
   "outputs": [
    {
     "data": {
      "text/plain": [
       "-1"
      ]
     },
     "execution_count": 19,
     "metadata": {},
     "output_type": "execute_result"
    }
   ],
   "source": [
    "#send tables into DB, preserving column datatypes\n",
    "new_treaties_df.to_sql('treaties', con=engine, schema='dbo', if_exists='append', index=False,\n",
    "                       dtype={'treaty_id': sq.types.INT(), 'treaty_type': sq.types.VARCHAR(), \n",
    "                              'alliance_id': sq.types.SMALLINT(), 'turns_left': sq.types.SMALLINT()})"
   ]
  }
 ],
 "metadata": {
  "kernelspec": {
   "display_name": "Python 3 (ipykernel)",
   "language": "python",
   "name": "python3"
  },
  "language_info": {
   "codemirror_mode": {
    "name": "ipython",
    "version": 3
   },
   "file_extension": ".py",
   "mimetype": "text/x-python",
   "name": "python",
   "nbconvert_exporter": "python",
   "pygments_lexer": "ipython3",
   "version": "3.8.0"
  }
 },
 "nbformat": 4,
 "nbformat_minor": 5
}
